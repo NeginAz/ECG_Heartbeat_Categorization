import pandas as pd
import numpy as np
from matplotlib import pyplot as plt
from sklearn.model_selection import train_test_split





#load each dataset
df_normal = pd.read_csv("../Data/ptbdb_normal.csv" , header=None)
df_abnormal = pd.read_csv("../Data/ptbdb_abnormal.csv", header=None)
df_train = pd.read_csv("../Data/mitbih_train.csv", header=None)
df_test = pd.read_csv("../Data/mitbih_test.csv", header=None)


#check the dimensions of each dataset
print(df_normal.shape)
print(df_abnormal.shape)
print(df_train.shape)
print(df_test.shape)


#check the first few rows of each dataset
print(df_normal.head())
print(df_abnormal.head())
print(df_train.head())
print(df_test.head())















print(df_train.iloc[:, -1].value_counts())
print(df_test.iloc[:,-1].value_counts())


print(df_normal.iloc[:, -1].value_counts())
print(df_abnormal.iloc[:,-1].value_counts())


# Map PTB labels to align with MIT-BIH labels
df_normal.iloc[:, -1] = 0  # Normal -> 'N' (0)
df_abnormal.iloc[:, -1] = 4  # Abnormal -> 'Q' (4)


print("PTB Normal Labels (after mapping):")
print(df_normal.iloc[:, -1].value_counts())

print("\nPTB Abnormal Labels (after mapping):")
print(df_abnormal.iloc[:, -1].value_counts())


print(df_normal.iloc[:, -1].unique())
print(df_abnormal.iloc[:,-1].unique())

nan_rows = df_test.iloc[:,-1].isna().any()


print(df_train.iloc[:,-1].unique())
print(df_test.iloc[:,-1].unique())



df_ptb_combined = pd.concat([df_normal, df_abnormal])

df_mit_combined = pd.concat([df_train, df_test])


print(df_ptb_combined.iloc[:, -1].unique())
print(df_mit_combined.iloc[:,-1].unique())

#Concatenate PTB with MIT-BIH datasets
df_combined = pd.concat([df_mit_combined, df_ptb_combined], axis=0)



print(df_combined.iloc[:,-1].value_counts())





#Basic Statistics for all features
overall_stats = df_combined.iloc[:, :-1].describe()

print("Statistical Measures for the Entire Dataset:")
print(overall_stats)

# check for missing values
missing_values = df_combined.isnull().sum()
print("\nMissing values in each colmn:")
print(missing_values[missing_values >0])





import matplotlib.pyplot as plt

label_distribution = df_combined.iloc[:,-1].value_counts()

plt.figure(figsize=(8,6))
plt.bar(label_distribution.index.astype(str), label_distribution.values, color = 'skyblue')
plt.xlabel("Class Label")
plt.ylabel("Number of samples")
plt.title("Distribution of Class Labels")
plt.grid(True)
plt.show()





# Plot random samples from each class
for label in df_combined.iloc[:, -1].unique():
    plt.figure(figsize=(8, 6))
    sample_signals = df_combined[df_combined.iloc[:, -1] == label].iloc[:, :-1].sample(5, random_state=42)
    
    for i, signal in enumerate(sample_signals.values):
        plt.plot(signal, label=f"Sample {i+1}")
    
    plt.xlabel('Time Step (Sample Index)')
    plt.ylabel('ECG Signal Amplitude')
    plt.title(f'ECG Signal Waveforms for Class {label}')
    plt.legend()
    plt.grid(True)
    plt.show()






# Box plots for feature-wise distribution across all samples
plt.figure(figsize=(15, 8))
plt.boxplot(df_combined.iloc[:, :-1].values.T, widths=0.6, showfliers=False)
plt.title('Distribution of ECG Signal Values Across 188 Features')
plt.xlabel('Feature Index (Time Step)')
plt.ylabel('ECG Signal Value')
plt.xticks(rotation=90)
plt.grid(True)
plt.show()






from pandas.plotting import autocorrelation_plot

# Autocorrelation for a sample ECG signal from class 0
sample_signal = df_combined[df_combined.iloc[:,-1] == 0] .iloc[0,:-1]

plt.figure(figsize=(8,4))
autocorrelation_plot(sample_signal)
plt.title('Autocorrelation of a Sample ECG Signal (Class 0)')
plt.show()





import numpy as np

# FFT of a sample ECG signal
sample_signal = df_combined.iloc[0, :-1]

# Perform FFT
fft_values = np.fft.fft(sample_signal)
fft_freq = np.fft.fftfreq(len(sample_signal), d=1/125)  # Assuming 125 Hz sampling rate

# Plot the FFT results
plt.figure(figsize=(8, 4))
plt.plot(fft_freq[:len(fft_freq)//2], np.abs(fft_values)[:len(fft_values)//2])
plt.xlabel('Frequency (Hz)')
plt.ylabel('Amplitude')
plt.title('Frequency Domain Analysis of a Sample ECG Signal')
plt.grid(True)
plt.show()





# Add statistical features for each sample
df_features = df_combined.copy()

df_features['mean'] = df_combined.iloc[:, :-1].mean(axis=1)
df_features['std'] = df_combined.iloc[:, :-1].std(axis=1)
df_features['min'] = df_combined.iloc[:, :-1].min(axis=1)
df_features['max'] = df_combined.iloc[:, :-1].max(axis=1)
df_features['median'] = df_combined.iloc[:, :-1].median(axis=1)
df_features['iqr'] = df_combined.iloc[:, :-1].quantile(0.75, axis=1) - df_combined.iloc[:, :-1].quantile(0.25, axis=1)






from scipy.stats import skew, kurtosis

df_features['zero_crossings'] = df_combined.iloc[:, :-1].apply(lambda x: np.sum(np.diff(np.sign(x)) != 0), axis=1)
df_features['skewness'] = df_combined.iloc[:, :-1].apply(lambda x: skew(x), axis=1)
df_features['kurtosis'] = df_combined.iloc[:, :-1].apply(lambda x: kurtosis(x), axis=1)






# Add frequency domain features
def fft_features(row):
    fft_vals = np.fft.fft(row)
    fft_mag = np.abs(fft_vals)
    return np.mean(fft_mag), np.std(fft_mag), np.max(fft_mag)

df_features[['fft_mean', 'fft_std', 'fft_max']] = df_combined.iloc[:, :-1].apply(lambda row: fft_features(row), axis=1, result_type='expand')






from sklearn.model_selection import train_test_split

# Separate features and labels from df_combined
X = df_combined.iloc[:, :-1]  # All columns except the last one as features
y = df_combined.iloc[:, -1]    # The last column as labels

# Separate the test set first
X_train_val, X_test, y_train_val, y_test = train_test_split(X, y,  test_size=0.3, random_state=42, stratify=y)

print(f"Training + Validation set size: {X_train_val.shape[0]}")
print(f"Test set size: {X_test.shape[0]}")


# Check the distribution of class labels in the test set
test_label_distribution = y_test.value_counts()

print("Class Distribution in the Test Set:")
print(test_label_distribution)





import numpy as np
from scipy.interpolate import interp1d

def time_shift(signal, shift_max:10):
    shift = np.random.randint(-shift_max, shift_max)
    return np.roll(signal, shift)


def add_noise(signal, noise_level: 0.05):
    noise = np.random.normal(0, noise_level, size = signal.shape)
    return signal + noise

def scale_signal(signal, scale_range=(0.8, 1.2)):
    scale = np.random.uniform(scale_range[0], scale_range[1])
    return signal*scale

def time_wrap(signal, sigma = 0.1):
    orig_steps = np.arrange(signal.shape[0])
    random_wrap = np.random.normal(loc = 1.0, scale=sigma, size = signal.shape[0])
    new_steps = np.cumsum(random_wrap)
    new_steps = (new_steps - new_steps.min()) / (new_steps.max() - new_steps.min())* (len(signal) -1)

    interpolator =  interp1d(new_steps, signal, kind='linear', fill_value="extrapolate")
    return interpolator(orig_steps)

def random_crop(signal , crop_size=20):
    start = np.random.randint(0, len(signal)- crop_size)
    cropped = signal[start:start + crop_size]
    return np.pad(cropped, (0, len(signal) - crop_size), 'constant')
#df_combined.iloc[:, :-1] = df_combined.iloc[:, :-1].apply(lambda row: time_shift(row), axis=1)


import numpy as np

def augment_signal(signal):
    # Apply augmentations with a certain probability
    if np.random.rand() < 0.5:
        signal = time_shift(signal)
    if np.random.rand() < 0.5:
        signal = add_noise(signal)
    if np.random.rand() < 0.5:
        signal = scale_signal(signal)
    if np.random.rand() < 0.3:  # Lower probability for stronger augmentations
        signal = time_warp(signal)








# Check the class distribution
label_distribution = df_combined.iloc[:, -1].value_counts()
print(label_distribution)

# Identify classes with fewer samples
minority_classes = label_distribution[label_distribution < 5000].index
print(f"Minority Classes: {minority_classes}")






from sklearn.mixture import GaussianMixture
import pandas as pd
import numpy as np


def generate_synthetic_data_gmm(df, label, target_samples=5000, n_components=5, random_state=42):
    """
    Generate synthetic ECG data using Gaussian Mixture Models (GMM) for a specific class.
    """
    synthetic_data = []

    # Extract data for the specified class
    class_data = df[df.iloc[:, -1] == label].iloc[:, :-1].values
    
    # Fit a Gaussian Mixture Model
    gmm = GaussianMixture(n_components=n_components, random_state=random_state)
    gmm.fit(class_data)
    
    # Generate synthetic samples
    synthetic_samples = gmm.sample(target_samples)[0]
    
    # Create labeled synthetic data
    synthetic_labels = np.full((synthetic_samples.shape[0], 1), label)
    synthetic_class_data = np.hstack((synthetic_samples, synthetic_labels))
    synthetic_data.append(synthetic_class_data)

    # Convert to DataFrame
    df_synthetic = pd.DataFrame(np.vstack(synthetic_data))
    return df_synthetic









labels = df_combined.iloc[:,-1]

class_stats = {}

for label in labels.unique():
    class_data = df_combined[df_combined.iloc[:,-1] == label].iloc[:, :-1] 
    class_stats[label] = class_data.describe()
    
for label, stats in class_stats.items():
    print(f"\nStatistical Measures for Class {label}:")
    print(stats)





from src.timegan_generator import generate_synthetic_data_timegan



# Import the CNNLSTMClassifier class
from src.cnn_lstm_classifier import CNNLSTMClassifier

# Initialize the classifier
model = CNNLSTMClassifier(input_shape=(188, 1), num_classes=5, learning_rate=1e-3, batch_size=32, epochs=50)

# Train the model
model.fit(X_train, y_train, X_val, y_val)

# Evaluate on the test set
model.evaluate(X_test, y_test)

# Visualize the training history
model.plot_history()



# import matplotlib.pyplot as plt

# labels = df_combined.iloc[:, -1]
# # Plot box plots for each class
# plt.figure(figsize=(10, 6))
# for label in labels.unique():
#     class_data = df_combined[df_combined.iloc[:, -1] == label].iloc[:, :-1]
#     positions = range(187)
#     plt.boxplot(class_data.values, positions=positions, widths=0.6)
#     plt.xlabel('Class Label')
#     plt.ylabel('ECG Signal Value')
#     plt.title('Distribution of ECG Signal Values for Each Class')
#     plt.grid(True)
#     plt.show()
import matplotlib.pyplot as plt

# Plot box plots for each sample within each class
# Prepare data for box plots for each class separately
class_data = [df_combined[df_combined.iloc[:, -1] == label].iloc[:, :-1] for label in labels.unique()]

# Generate a box plot for each class
for i, data in enumerate(class_data):
    plt.figure(figsize=(15, 8))
    plt.boxplot(data.values.T, widths=0.6, showfliers=False)
    plt.title(f'Distribution of ECG Signal Values for 188 Features in Class {labels.unique()[i]}')
    plt.xlabel('Feature Index (Time Step)')
    plt.ylabel('ECG Signal Value')
    plt.xticks(range(1, 189), rotation=90)  # Adjust x-ticks to match 188 features
    plt.grid(True)
    plt.show()


# Plot histograms of ECG values for each class
plt.figure(figsize=(15, 10))

for i, label in enumerate(labels.unique()):
    plt.subplot(2, 3, i+1)
    plt.hist(df_combined[df_combined.iloc[:, -1] == label].iloc[:, :-1].values.flatten(), bins=50, alpha=0.7)
    plt.title(f"Class {label} Signal Value Distribution")
    plt.xlabel('Signal Value')
    plt.ylabel('Frequency')

plt.tight_layout()
plt.show()




